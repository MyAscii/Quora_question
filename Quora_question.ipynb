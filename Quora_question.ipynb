{
 "cells": [
  {
   "cell_type": "markdown",
   "id": "c576ddad",
   "metadata": {},
   "source": [
    "# Mathematical model"
   ]
  },
  {
   "cell_type": "code",
   "execution_count": 1,
   "id": "fefed017",
   "metadata": {},
   "outputs": [],
   "source": [
    "import scipy.stats\n",
    "import matplotlib.pyplot as plt\n",
    "import numpy as np\n",
    "import math\n",
    "\n",
    "np.random.seed(1)\n",
    "\n",
    "pop=1000000\n",
    "myclip_a = 0\n",
    "myclip_b = 1000000\n",
    "\n",
    "\n",
    "my_mean_gre = 950000\n",
    "my_std_gre = 50000\n",
    "\n",
    "gre_a, gre_b = (myclip_a - my_mean_gre) / my_std_gre, (myclip_b - my_mean_gre) / my_std_gre\n",
    "gre = scipy.stats.truncnorm.rvs(gre_a, gre_b, loc=my_mean_gre, scale=my_std_gre, size=int(pop*0.4))\n",
    "\n",
    "my_mean_grec = 750000\n",
    "my_std_grec = 125000\n",
    "\n",
    "grec_a, grec_b = (myclip_a - my_mean_grec) / my_std_grec, (myclip_b - my_mean_grec) / my_std_grec\n",
    "grec = scipy.stats.truncnorm.rvs(grec_a, grec_b, loc=my_mean_grec, scale=my_std_grec, size=int(pop*0.4))\n",
    "\n",
    "my_mean_ran = 500000\n",
    "my_std_ran = 250000\n",
    "\n",
    "ran_a, ran_b = (myclip_a - my_mean_ran) / my_std_ran, (myclip_b - my_mean_ran) / my_std_ran\n",
    "ran = scipy.stats.truncnorm.rvs(ran_a, ran_b, loc=my_mean_ran, scale=my_std_ran, size=int(pop*0.2))"
   ]
  },
  {
   "cell_type": "code",
   "execution_count": 2,
   "id": "ad2d9331",
   "metadata": {},
   "outputs": [
    {
     "name": "stdout",
     "output_type": "stream",
     "text": [
      "[930849.91781238 963450.78870831 763564.16075579 916959.31868445\n",
      " 892109.86917535]\n",
      "935608.1855108839\n",
      "39679.1081320067\n"
     ]
    },
    {
     "data": {
      "image/png": "[encoded data removed]",
      "text/plain": [
       "<Figure size 432x288 with 1 Axes>"
      ]
     },
     "metadata": {
      "needs_background": "light"
     },
     "output_type": "display_data"
    }
   ],
   "source": [
    "#view first six values\n",
    "print(gre[0:5])\n",
    "\n",
    "#find mean of sample\n",
    "print(np.mean(gre))\n",
    "\n",
    "#find standard deviation of sample\n",
    "print(np.std(gre, ddof=1))\n",
    "\n",
    "plt.hist(gre, 1000)\n",
    "plt.show()"
   ]
  },
  {
   "cell_type": "code",
   "execution_count": 3,
   "id": "51968d5d",
   "metadata": {},
   "outputs": [
    {
     "name": "stdout",
     "output_type": "stream",
     "text": [
      "[868769.10419357 694568.63400712 742678.55855533 698719.64730589\n",
      " 562682.96084188]\n",
      "743095.470645166\n",
      "117593.1986641108\n"
     ]
    },
    {
     "data": {
      "image/png": "[encoded data removed]",
      "text/plain": [
       "<Figure size 432x288 with 1 Axes>"
      ]
     },
     "metadata": {
      "needs_background": "light"
     },
     "output_type": "display_data"
    }
   ],
   "source": [
    "#view first six values\n",
    "print(grec[0:5])\n",
    "\n",
    "#find mean of sample\n",
    "print(np.mean(grec))\n",
    "\n",
    "#find standard deviation of sample\n",
    "print(np.std(grec, ddof=1))\n",
    "\n",
    "plt.hist(grec, 1000)\n",
    "plt.show()"
   ]
  },
  {
   "cell_type": "code",
   "execution_count": 4,
   "id": "31a3bfbe",
   "metadata": {},
   "outputs": [
    {
     "name": "stdout",
     "output_type": "stream",
     "text": [
      "[718930.80635991 255762.61826386 333034.04651651  75790.62691164\n",
      " 637625.17129955]\n",
      "499980.2175555517\n",
      "219560.78639037834\n"
     ]
    },
    {
     "data": {
      "image/png": "[encoded data removed]",
      "text/plain": [
       "<Figure size 432x288 with 1 Axes>"
      ]
     },
     "metadata": {
      "needs_background": "light"
     },
     "output_type": "display_data"
    }
   ],
   "source": [
    "#view first six values\n",
    "print(ran[0:5])\n",
    "\n",
    "#find mean of sample\n",
    "print(np.mean(ran))\n",
    "\n",
    "#find standard deviation of sample\n",
    "print(np.std(ran, ddof=1))\n",
    "\n",
    "plt.hist(ran, 1000)\n",
    "plt.show()"
   ]
  },
  {
   "cell_type": "code",
   "execution_count": 5,
   "id": "eabefd8c",
   "metadata": {},
   "outputs": [
    {
     "name": "stdout",
     "output_type": "stream",
     "text": [
      "<class 'numpy.ndarray'>\n"
     ]
    }
   ],
   "source": [
    "print(type(ran))"
   ]
  },
  {
   "cell_type": "code",
   "execution_count": 6,
   "id": "2179a379",
   "metadata": {},
   "outputs": [
    {
     "data": {
      "image/png": "[encoded data removed]",
      "text/plain": [
       "<Figure size 432x288 with 1 Axes>"
      ]
     },
     "metadata": {
      "needs_background": "light"
     },
     "output_type": "display_data"
    }
   ],
   "source": [
    "total = np.concatenate((grec, gre, ran), axis=None)\n",
    "plt.hist(total, 1000)\n",
    "plt.show()"
   ]
  },
  {
   "cell_type": "markdown",
   "id": "7232fe99",
   "metadata": {},
   "source": [
    "# Collusion"
   ]
  },
  {
   "cell_type": "code",
   "execution_count": 7,
   "id": "d2565b74",
   "metadata": {},
   "outputs": [
    {
     "name": "stdout",
     "output_type": "stream",
     "text": [
      "Total to win : 500000500000.0\n",
      "Total to win per person : 500000.5\n"
     ]
    }
   ],
   "source": [
    "# How much is there to win in total if everyone pick a different number\n",
    "#= ((n / 2) * (2 * a + (n - 1) * d))\n",
    "#a - First term\n",
    "#d - Common difference\n",
    "#n - No of terms\n",
    "\n",
    "total_win = (pop / 2) *  (2 * 1 + (pop - 1) * 1)\n",
    "\n",
    "print(\"Total to win :\",total_win)\n",
    "print(\"Total to win per person :\",total_win/pop)"
   ]
  },
  {
   "cell_type": "markdown",
   "id": "546a7cc2",
   "metadata": {},
   "source": [
    "# Random"
   ]
  },
  {
   "cell_type": "code",
   "execution_count": 8,
   "id": "00a7e1f3",
   "metadata": {},
   "outputs": [
    {
     "name": "stdout",
     "output_type": "stream",
     "text": [
      "Chance of wining : 0.36787925722106646\n",
      "Expected value : 183939.81255016185\n"
     ]
    }
   ],
   "source": [
    "#= (1 - 1 / n) ^ n\n",
    "rando = (1-(1/pop))**pop\n",
    "print(\"Chance of wining :\",rando)\n",
    "expec = rando*(total_win/pop)\n",
    "print(\"Expected value :\",expec)"
   ]
  },
  {
   "cell_type": "code",
   "execution_count": null,
   "id": "8749159f",
   "metadata": {},
   "outputs": [],
   "source": []
  }
 ],
 "metadata": {
  "kernelspec": {
   "display_name": "Python 3 (ipykernel)",
   "language": "python",
   "name": "python3"
  },
  "language_info": {
   "codemirror_mode": {
    "name": "ipython",
    "version": 3
   },
   "file_extension": ".py",
   "mimetype": "text/x-python",
   "name": "python",
   "nbconvert_exporter": "python",
   "pygments_lexer": "ipython3",
   "version": "3.8.12"
  },
  "toc": {
   "base_numbering": 1,
   "nav_menu": {},
   "number_sections": true,
   "sideBar": true,
   "skip_h1_title": false,
   "title_cell": "Table of Contents",
   "title_sidebar": "Contents",
   "toc_cell": false,
   "toc_position": {},
   "toc_section_display": true,
   "toc_window_display": false
  }
 },
 "nbformat": 4,
 "nbformat_minor": 5
}
